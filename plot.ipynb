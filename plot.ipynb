{
 "cells": [
  {
   "cell_type": "code",
   "execution_count": null,
   "id": "fc5c8532-c5f0-454f-a362-8ad79b5b9d81",
   "metadata": {
    "tags": []
   },
   "outputs": [],
   "source": [
    "import matplotlib as mpl\n",
    "import matplotlib.pyplot as plt\n",
    "import numpy as np\n",
    "\n",
    "\n",
    "def get_t(D):\n",
    "    return 2 * (5 * D + 4) ** 0.5 - 4\n",
    "\n",
    "\n",
    "def get_D(t):\n",
    "    return ((t / 2 + 2) ** 2 - 4) / 5\n",
    "\n",
    "\n",
    "ddD = -0.1\n",
    "ddD2 = 0.2\n",
    "\n",
    "\n",
    "def print_Dt(*tds):\n",
    "    dD = -0.4\n",
    "    t = 0\n",
    "    D = 0\n",
    "    left_t = 0\n",
    "    for _t, _D in tds:\n",
    "        if _t == 'next':\n",
    "            _t = t + left_t\n",
    "        assert _t >= t\n",
    "        if left_t + t <= _t:\n",
    "            # 这段时间dD增加\n",
    "            t += left_t\n",
    "            dD += ddD * left_t\n",
    "            D = 0\n",
    "            print(f\"{t=:.2f} {D=:.3f} {dD=:.3f}\")\n",
    "\n",
    "            dD = min(-0.4, dD + ddD2 * (_t - t))\n",
    "            D = _D\n",
    "            t = _t\n",
    "            old_D = 0\n",
    "        else:\n",
    "            # 可以延续\n",
    "            dt = _t - t\n",
    "            D += dt * (dD + ddD * dt / 2)\n",
    "            t = _t\n",
    "            dD += ddD * dt\n",
    "            old_D = D\n",
    "            D = max(_D, D)\n",
    "        left_t = (dD + (dD * dD - 2 * D * ddD) ** 0.5) / -ddD\n",
    "        print(f\"{t=:.2f} D:{old_D:.3f}=>{D:.3f} {dD=:.3f} to={t+left_t:.2f}\")\n",
    "\n",
    "\n",
    "def print_Dt2(*tds):\n",
    "    ddD = -0.1\n",
    "    ddD2 = 0.2\n",
    "    dD = -0.4\n",
    "    t = 0\n",
    "    D = 0\n",
    "    left_t = 0\n",
    "    res = []\n",
    "    for _t, _D, *_msg in tds:\n",
    "        if _t == 'next':\n",
    "            _t = t + left_t\n",
    "        assert _t >= t\n",
    "        if left_t + t <= _t:\n",
    "            # 这段时间dD增加\n",
    "            t += left_t\n",
    "            dD += ddD * left_t\n",
    "            D = 0\n",
    "            res.append([t, 0, dD, 0])\n",
    "            dD = min(-0.4, dD + ddD2 * (_t - t))\n",
    "            D = _D\n",
    "            t = _t\n",
    "            old_D = 0\n",
    "            res.append([t, 0, dD, D])\n",
    "        else:\n",
    "            # 可以延续\n",
    "            dt = _t - t\n",
    "            D += dt * (dD + ddD * dt / 2)\n",
    "            t = _t\n",
    "            dD += ddD * dt\n",
    "            D = max(_D, D)\n",
    "            res.append([t, 0, dD, D])\n",
    "        if _msg:\n",
    "            res[-1].append(_msg[0])\n",
    "        left_t = (dD + (dD * dD - 2 * D * ddD) ** 0.5) / -ddD\n",
    "    for i in range(len(res)-1):\n",
    "        res[i][1] = res[i+1][0]\n",
    "    res.pop()\n",
    "    return res\n",
    "\n",
    "\n",
    "def print_rule(rules, title):\n",
    "    ts = np.arange(0, rules[-1][1], 0.01)\n",
    "    dDs = np.zeros_like(ts)\n",
    "    Ds = np.zeros_like(ts)\n",
    "    dDs[0] = -0.4\n",
    "    Ds[0] = 0\n",
    "    for t1, t2, dD, D, *_ in rules:\n",
    "        idxs = np.where((ts > t1) & (ts <= t2))\n",
    "        for idx in idxs:\n",
    "            t = ts[idx]\n",
    "            if D > 0:\n",
    "                dDs[idx] = dD + ddD * (t - t1)\n",
    "                Ds[idx] = D + (t - t1) * (dD + ddD * (t - t1) / 2)\n",
    "            else:\n",
    "                dDs[idx] = np.minimum(-0.4, dD + ddD2 * (t - t1))\n",
    "                Ds[idx] = 0\n",
    "    plt.figure(figsize=(5, 2.7), layout='constrained')\n",
    "    plt.plot(ts, -dDs, label='dD/dt')  # Plot some data on the (implicit) axes.\n",
    "    plt.plot(ts, Ds, label='D')  # etc.\n",
    "    plt.plot(ts, np.zeros_like(ts), linestyle='--')  # etc.\n",
    "    plt.xlabel('t')\n",
    "    plt.ylabel('D')\n",
    "    plt.rcParams['font.sans-serif'] = ['SimHei']  # 用来正常显示中文标签\n",
    "    plt.rcParams['axes.unicode_minus'] = False  # 用来正常显示负号\n",
    "    plt.title(title)\n",
    "    for t1, t2, dD, D, *msg in rules:\n",
    "        if not msg:\n",
    "            continue\n",
    "        plt.annotate(msg[0], xy=(t1, D), xytext=(t1+0.2, D+0.3),\n",
    "                     arrowprops=dict(facecolor='black', width=0.1, headwidth=3, headlength=5))\n",
    "    plt.ylim(-0.5, 2.5)\n",
    "    plt.savefig(fname= title + \".png\")\n",
    "    plt.legend()"
   ]
  },
  {
   "cell_type": "code",
   "execution_count": null,
   "id": "51d23e54-d9f7-409d-9e12-fbbe6b4eda0d",
   "metadata": {
    "tags": []
   },
   "outputs": [],
   "source": [
    "rules = print_Dt2((0, 2), (2, 1.6), (4, 1.6), (6, 1.6), ('next', 0))  # 心海-丘丘人\n",
    "print_rule(rules, \"万叶E 心海 丘丘人\")"
   ]
  },
  {
   "cell_type": "code",
   "execution_count": null,
   "id": "c78e863b-6127-4b08-86fd-6e160b9e3290",
   "metadata": {
    "tags": []
   },
   "outputs": [],
   "source": [
    "rules = print_Dt2((0, 2), (2, 2), (4, 2), (6, 2), ('next', 0))  # 心海-丘丘人\n",
    "print_rule(rules, \"万叶EQ 心海 丘丘人\")"
   ]
  },
  {
   "cell_type": "code",
   "execution_count": null,
   "id": "cb596056-463d-4b68-a414-71c67946d8c1",
   "metadata": {
    "tags": []
   },
   "outputs": [],
   "source": [
    "rules = print_Dt2(\n",
    "    (0, 2, 'Q1'), (0.5, 0, '放E'), (1.5, 1.6, 'E1'), ('next', 1.6, 'Q2'),\n",
    "    (4.5, 1.6, 'E4'), (5.5, 1.6, 'E5'), ('next', 0))  # 莫娜QE-丘丘人\n",
    "print_rule(rules, \"万叶E 莫娜QE 丘丘人\")"
   ]
  },
  {
   "cell_type": "code",
   "execution_count": null,
   "id": "67ff03e7-cb31-45c9-8522-c4c5fe2e1971",
   "metadata": {
    "tags": []
   },
   "outputs": [],
   "source": [
    "rules = print_Dt2(\n",
    "    (0, 0, '放E'), (1, 2, 'E1'), (4, 1.6, 'E4'), (5, 1.6, 'E5'), ('next', 0))\n",
    "print_rule(rules, \"万叶E 莫娜E 丘丘人\")"
   ]
  },
  {
   "cell_type": "code",
   "execution_count": null,
   "id": "81a9a3ad-8f0b-412e-b5e8-600f31703bff",
   "metadata": {
    "tags": []
   },
   "outputs": [],
   "source": [
    "rules = print_Dt2(\n",
    "    (0, 1, 'Q1'), (0.5, 0, '放E'), (1.5, 1, 'E1'), ('next', 2, 'Q2'),\n",
    "    (4.5, 1, 'E4'), (5.5, 1, 'E5'), ('next', 0))\n",
    "print_rule(rules, \"万叶EQ 莫娜QE 圣骸兽\")"
   ]
  },
  {
   "cell_type": "code",
   "execution_count": null,
   "id": "f31e2903-c205-429e-90b3-a71bfe16330c",
   "metadata": {
    "tags": []
   },
   "outputs": [],
   "source": [
    "rules = print_Dt2((0, 1, 'shift'), (1, 1, 'Q1'), (2.5, 1, 'E1'), ('next', 2, 'Q2'),\n",
    "                  (5.5, 1, 'E4'), (6.5, 1, 'E5'), ('next', 0))  # 莫娜-圣骸兽,先冲刺\n",
    "print_rule(rules, \"万叶EQ 莫娜冲刺QE 圣骸兽\")"
   ]
  },
  {
   "cell_type": "code",
   "execution_count": null,
   "id": "17157b42-3f27-4465-82d9-9c1b6f2438e9",
   "metadata": {
    "tags": []
   },
   "outputs": [],
   "source": [
    "rules = print_Dt2((0, 1), (2, 1), (4, 1), (6, 1), ('next', 0))  # 心海-圣骸兽\n",
    "print_rule(rules, \"万叶EQ 心海 圣骸兽\")"
   ]
  },
  {
   "cell_type": "markdown",
   "id": "eb494367-e9f5-4a55-8fd6-1744459ab3be",
   "metadata": {},
   "source": [
    "莫娜E技能，持续5秒，释放瞬间不挂水，每秒攻击一次，2.5s/3hit，最后一次攻击独立附着，\n",
    "因此放E后第1,4,5秒挂1水；\n",
    "莫娜Q技能，释放瞬间挂1水，破裂时挂2单位强水，但是两次挂水共用2.5s计时器，\n",
    "也就是Q后至少等2.5s破裂才会挂强水；\n",
    "冻结时，莫娜Q不会破裂，非冻结情况下，随便一个带削韧的攻击都可以使泡泡破裂；\n",
    "\n",
    "E的五次攻击，简称E1,...,E4,E5;\n",
    "Q的五次攻击，简称Q1,Q2\n",
    "由此，为了使Q2能挂强水，Q1后怪物保持冻结至少需要2.5s。\n",
    "正常的怪甚至不需要E的参与\n",
    "\n",
    "圣骸兽有50%冻结抗性，如1单位冰+1单位水=2单位冻，但是只能留下1单位冻元素；\n",
    "冰冻共存，扩散反应优先扩散藏元素；\n",
    "0.5冰+1风=2.2冰；\n",
    "群怪条件，神里万叶都开大时，可以认为怪物头上始终附着有接近2单位冰元素；\n"
   ]
  }
 ],
 "metadata": {
  "kernelspec": {
   "display_name": "Python 3 (ipykernel)",
   "language": "python",
   "name": "python3"
  },
  "language_info": {
   "codemirror_mode": {
    "name": "ipython",
    "version": 3
   },
   "file_extension": ".py",
   "mimetype": "text/x-python",
   "name": "python",
   "nbconvert_exporter": "python",
   "pygments_lexer": "ipython3",
   "version": "3.11.3"
  }
 },
 "nbformat": 4,
 "nbformat_minor": 5
}
